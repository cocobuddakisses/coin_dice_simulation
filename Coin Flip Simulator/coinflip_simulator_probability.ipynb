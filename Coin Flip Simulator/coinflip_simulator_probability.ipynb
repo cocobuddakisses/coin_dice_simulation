{
 "cells": [
  {
   "cell_type": "markdown",
   "id": "82dde67c",
   "metadata": {},
   "source": [
    "# Coin Flip Probabiltiy Simulation\n",
    "\n",
    "## 🎯 Goal\n",
    "This is a probability & simulation mini project.\n",
    "I will:\n",
    "\n",
    "Simulate coin flips\n",
    "\n",
    "Collect the outcomes in a dataset\n",
    "\n",
    "Analyze the results\n",
    "\n",
    "Visualize the distribution to see if it matches what probability theory predicts\n",
    "\n",
    "### Probability of a coin flip\n",
    "\n",
    "A fair coin has a 50% chance to be heads, and 50% chance to be tails.\n",
    "\n",
    "Therefore, in theory the distribution between heads and tails should be equal.\n",
    "\n",
    "### 📌 Step 1: Define the experiment\n",
    "Toss a fair coin (50% chance heads, 50% tails)\n",
    "\n",
    "Do it n times — say, 100, 1,000, or 10,000 tosses\n",
    "\n",
    "Import Numpy to simulate random coinflips\n",
    "\n",
    "Import pandas to create a dataframe of coinflips\n",
    "\n",
    "Import matplotlib and seaborn to graph distribution\n",
    "\n",
    "#### Please feel free to change n_tosses value and see for yourself how the distribution changes!"
   ]
  },
  {
   "cell_type": "code",
   "execution_count": 1,
   "id": "146e4107",
   "metadata": {},
   "outputs": [],
   "source": [
    "import numpy as np\n",
    "import pandas as pd\n",
    "import matplotlib.pyplot as plt\n",
    "import seaborn as sns"
   ]
  },
  {
   "cell_type": "code",
   "execution_count": 23,
   "id": "5c2f0fec",
   "metadata": {},
   "outputs": [],
   "source": [
    "n_tosses = 10000\n",
    "\n",
    "#0 = heads, 1 = tails\n",
    "tosses = np.random.choice(['Heads', 'Tails'], size=n_tosses)\n"
   ]
  },
  {
   "cell_type": "code",
   "execution_count": 41,
   "id": "3c60baf8",
   "metadata": {},
   "outputs": [
    {
     "name": "stdout",
     "output_type": "stream",
     "text": [
      "Result\n",
      "Tails    50137\n",
      "Heads    49863\n",
      "Name: count, dtype: int64\n"
     ]
    }
   ],
   "source": [
    "#create df to store results\n",
    "df = pd.DataFrame(tosses, columns=['Result'])\n",
    "counts = df['Result'].value_counts()\n",
    "print(counts)"
   ]
  },
  {
   "cell_type": "code",
   "execution_count": 25,
   "id": "33a9b057",
   "metadata": {},
   "outputs": [
    {
     "data": {
      "text/plain": [
       "Text(0.5, 1.0, 'Distribution of Coin Flip Results n=10000')"
      ]
     },
     "execution_count": 25,
     "metadata": {},
     "output_type": "execute_result"
    },
    {
     "data": {
      "image/png": "[encoded data removed]",
      "text/plain": [
       "<Figure size 640x480 with 1 Axes>"
      ]
     },
     "metadata": {},
     "output_type": "display_data"
    }
   ],
   "source": [
    "sns.countplot(data=df, x='Result')\n",
    "plt.title(f'Distribution of Coin Flip Results n={n_tosses}')"
   ]
  },
  {
   "cell_type": "markdown",
   "id": "7b21cb8c",
   "metadata": {},
   "source": [
    "## Insight\n",
    "\n",
    "### 📌 Why Does the Coin Toss Get Closer to 50/50 with More Tosses?\n",
    "\n",
    "In theory, a fair coin has a **50% chance of landing on Heads** and a **50% chance of landing on Tails**.  \n",
    "However, in small samples, random chance can easily create an imbalance.  \n",
    "For example, if you flip a coin only 10 times, you might get 7 Heads and 3 Tails.\n",
    "\n",
    "This is where the **Law of Large Numbers** comes in.  \n",
    "The Law of Large Numbers says that as the number of trials (**n**) increases, the *observed* proportions will get closer to the *expected* probability.  \n",
    "So, if you flip a coin 1,000 or 10,000 times, the proportion of Heads and Tails will naturally stabilize around 50/50.\n",
    "\n",
    "This experiment shows how larger sample sizes reduce random variation and give results that better reflect the true underlying probability.\n",
    "\n",
    "**Key takeaway:** Small samples can be misleading, but large samples reveal the real pattern.\n",
    "\n",
    "To show this, I will plot the proportion of heads to tails as 'n' increases.\n",
    "\n",
    "## 📌 Step 2\n",
    "\n",
    "Create a table of proportions of head vs tail % at different n values.\n",
    "\n",
    "Use seaborn to show how the distribution of heads and tails gets close to 50/50 at large n values\n"
   ]
  },
  {
   "cell_type": "code",
   "execution_count": 46,
   "id": "7ef379ba",
   "metadata": {},
   "outputs": [
    {
     "name": "stdout",
     "output_type": "stream",
     "text": [
      "        n   Head%   Tail%\n",
      "0      10  40.000  60.000\n",
      "1     100  50.000  50.000\n",
      "2    1000  52.300  47.700\n",
      "3   10000  49.980  50.020\n",
      "4  100000  50.058  49.942\n"
     ]
    }
   ],
   "source": [
    "# Define the  sample sizes to test\n",
    "n_values = [10, 100, 1000, 10000, 100000]\n",
    "\n",
    "# Store results in a list of dicts\n",
    "results = []\n",
    "\n",
    "for n in n_values:\n",
    "    tosses = np.random.choice(['Heads', 'Tails'], size=n)\n",
    "    counts = pd.Series(tosses).value_counts(normalize=True) * 100  # Get % directly\n",
    "    heads_pct = counts.get('Heads', 0)\n",
    "    tails_pct = counts.get('Tails', 0)\n",
    "\n",
    "    results.append({'n': n, 'Head%': heads_pct, 'Tail%': tails_pct})\n",
    "\n",
    "# Turn the list of dicts into a DataFrame\n",
    "proportion_df = pd.DataFrame(results)\n",
    "\n",
    "print(proportion_df)\n",
    "\n"
   ]
  },
  {
   "cell_type": "code",
   "execution_count": 47,
   "id": "20b7d944",
   "metadata": {},
   "outputs": [
    {
     "data": {
      "text/html": [
       "<div>\n",
       "<style scoped>\n",
       "    .dataframe tbody tr th:only-of-type {\n",
       "        vertical-align: middle;\n",
       "    }\n",
       "\n",
       "    .dataframe tbody tr th {\n",
       "        vertical-align: top;\n",
       "    }\n",
       "\n",
       "    .dataframe thead th {\n",
       "        text-align: right;\n",
       "    }\n",
       "</style>\n",
       "<table border=\"1\" class=\"dataframe\">\n",
       "  <thead>\n",
       "    <tr style=\"text-align: right;\">\n",
       "      <th></th>\n",
       "      <th>n</th>\n",
       "      <th>Outcome</th>\n",
       "      <th>Percent</th>\n",
       "    </tr>\n",
       "  </thead>\n",
       "  <tbody>\n",
       "    <tr>\n",
       "      <th>0</th>\n",
       "      <td>10</td>\n",
       "      <td>Head%</td>\n",
       "      <td>40.000</td>\n",
       "    </tr>\n",
       "    <tr>\n",
       "      <th>1</th>\n",
       "      <td>100</td>\n",
       "      <td>Head%</td>\n",
       "      <td>50.000</td>\n",
       "    </tr>\n",
       "    <tr>\n",
       "      <th>2</th>\n",
       "      <td>1000</td>\n",
       "      <td>Head%</td>\n",
       "      <td>52.300</td>\n",
       "    </tr>\n",
       "    <tr>\n",
       "      <th>3</th>\n",
       "      <td>10000</td>\n",
       "      <td>Head%</td>\n",
       "      <td>49.980</td>\n",
       "    </tr>\n",
       "    <tr>\n",
       "      <th>4</th>\n",
       "      <td>100000</td>\n",
       "      <td>Head%</td>\n",
       "      <td>50.058</td>\n",
       "    </tr>\n",
       "    <tr>\n",
       "      <th>5</th>\n",
       "      <td>10</td>\n",
       "      <td>Tail%</td>\n",
       "      <td>60.000</td>\n",
       "    </tr>\n",
       "    <tr>\n",
       "      <th>6</th>\n",
       "      <td>100</td>\n",
       "      <td>Tail%</td>\n",
       "      <td>50.000</td>\n",
       "    </tr>\n",
       "    <tr>\n",
       "      <th>7</th>\n",
       "      <td>1000</td>\n",
       "      <td>Tail%</td>\n",
       "      <td>47.700</td>\n",
       "    </tr>\n",
       "    <tr>\n",
       "      <th>8</th>\n",
       "      <td>10000</td>\n",
       "      <td>Tail%</td>\n",
       "      <td>50.020</td>\n",
       "    </tr>\n",
       "    <tr>\n",
       "      <th>9</th>\n",
       "      <td>100000</td>\n",
       "      <td>Tail%</td>\n",
       "      <td>49.942</td>\n",
       "    </tr>\n",
       "  </tbody>\n",
       "</table>\n",
       "</div>"
      ],
      "text/plain": [
       "        n Outcome  Percent\n",
       "0      10   Head%   40.000\n",
       "1     100   Head%   50.000\n",
       "2    1000   Head%   52.300\n",
       "3   10000   Head%   49.980\n",
       "4  100000   Head%   50.058\n",
       "5      10   Tail%   60.000\n",
       "6     100   Tail%   50.000\n",
       "7    1000   Tail%   47.700\n",
       "8   10000   Tail%   50.020\n",
       "9  100000   Tail%   49.942"
      ]
     },
     "execution_count": 47,
     "metadata": {},
     "output_type": "execute_result"
    }
   ],
   "source": [
    "#melt outcomes together into one column, and the value will be the column next to it\n",
    "\n",
    "proportion_df_melted = proportion_df.melt(\n",
    "    id_vars='n',                # Keep 'n' as ID\n",
    "    value_vars=['Head%', 'Tail%'],  # The columns to unpivot\n",
    "    var_name='Outcome',         # New column name for variable\n",
    "    value_name='Percent'        # New column for values\n",
    ")\n",
    "\n",
    "proportion_df_melted"
   ]
  },
  {
   "cell_type": "code",
   "execution_count": 49,
   "id": "0285dd00",
   "metadata": {},
   "outputs": [
    {
     "data": {
      "image/png": "[encoded data removed]",
      "text/plain": [
       "<Figure size 640x480 with 1 Axes>"
      ]
     },
     "metadata": {},
     "output_type": "display_data"
    }
   ],
   "source": [
    "sns.lineplot(\n",
    "    data=proportion_df_melted,  # long format DataFrame\n",
    "    x='n',                      # x-axis: number of tosses\n",
    "    y='Percent',                # y-axis: proportion\n",
    "    hue='Outcome',              # separate line for each outcome\n",
    "    marker='o'                  # add markers for each point\n",
    ")\n",
    "plt.title(\"Proportion on Heads vs Tails% from n=10 to n=100000\")\n",
    "plt.xscale('log') #use log scale for x-axis so plot is easier to read"
   ]
  },
  {
   "cell_type": "markdown",
   "id": "56e08899",
   "metadata": {},
   "source": [
    "## 📌 Key Takeaways: Coin Toss Proportions as Sample Size Increases\n",
    "\n",
    "This line plot shows how the **proportion of Heads and Tails** changes as we increase the number of coin tosses (`n`).\n",
    "\n",
    "At small sample sizes (like 10 or 100 tosses), random chance can create large imbalances — for example, you might see 60% Heads and 40% Tails just by luck. But as the number of tosses grows larger (1,000 → 10,000 and beyond), the proportions get closer and closer to the theoretical probability of **50% Heads, 50% Tails**.\n",
    "\n",
    "This visual demonstrates the **Law of Large Numbers** in action:  \n",
    "> *As the number of trials increases, the sample mean (or proportion) converges to the true probability.*\n",
    "\n",
    "In other words, randomness balances out over time. Small samples are noisy — large samples reveal the true pattern. This is the same principle that underlies much of **inferential statistics** and real-world data analysis.\n",
    "\n",
    "✅ **Key point:** The more data you have, the more reliable your estimates become.\n",
    "\n",
    "See my dice rolling simulation also to see how distribution will even out over 6 equally likely outcomes instead of 2."
   ]
  },
  {
   "cell_type": "markdown",
   "id": "d54a40cc",
   "metadata": {},
   "source": []
  }
 ],
 "metadata": {
  "kernelspec": {
   "display_name": "Python 3",
   "language": "python",
   "name": "python3"
  },
  "language_info": {
   "codemirror_mode": {
    "name": "ipython",
    "version": 3
   },
   "file_extension": ".py",
   "mimetype": "text/x-python",
   "name": "python",
   "nbconvert_exporter": "python",
   "pygments_lexer": "ipython3",
   "version": "3.11.9"
  }
 },
 "nbformat": 4,
 "nbformat_minor": 5
}
